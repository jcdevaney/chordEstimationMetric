{
 "cells": [
  {
   "cell_type": "markdown",
   "id": "21cca448",
   "metadata": {},
   "source": [
    "# Incorporating pitch content into chord estimation evaluation"
   ]
  },
  {
   "cell_type": "markdown",
   "id": "9d34f913",
   "metadata": {},
   "source": [
    "Devaney, J. 2021. Beyond chord vocabularies: Exploiting pitch-relationships in a chord estimation metric. Late Breaking Demo. International Society for Music Information Retrieval Conference."
   ]
  },
  {
   "cell_type": "markdown",
   "id": "2e5120a4",
   "metadata": {},
   "source": [
    "## Abstract\n",
    "\n",
    "Chord estimation metrics treat chord labels as independent of one another. This fails to represent the pitch relationships between the chords in a meaningful way, resulting in evaluations that must make compromises with complex chord vocabularies and that often require time-consuming qualitative analyses to determine details about how a chord estimation algorithm performs. This paper presents an accuracy metric for chord estimation that compares the pitch content of the estimation chords against the ground truth that captures both the correct notes that are estimated and additional notes that are inserted into the estimate. This is not a stand-alone evaluation protocol but rather a metric that can be integrated into existing evaluation approaches."
   ]
  },
  {
   "cell_type": "markdown",
   "id": "807913bf",
   "metadata": {},
   "source": [
    "## Pitch Class Content in C Major Diatonic Triads\n",
    "\n",
    "<img src=\"images/pitchContent.jpg\" width=700>"
   ]
  },
  {
   "cell_type": "markdown",
   "id": "9036c8f4",
   "metadata": {},
   "source": [
    "## Algorithm\n",
    "<img src=\"images/algorithm.jpg\" width=500>"
   ]
  },
  {
   "cell_type": "markdown",
   "id": "8a628dd8",
   "metadata": {},
   "source": [
    "## Python Implementation"
   ]
  },
  {
   "cell_type": "code",
   "execution_count": 1,
   "id": "f5ec91f1",
   "metadata": {},
   "outputs": [],
   "source": [
    "def chordContentMetric(estimate, reference):\n",
    "    \n",
    "    # C is the number of predicted notes in the estimate that occur in the reference (ground truth)\n",
    "    C = len(estimate.intersection(reference))\n",
    "\n",
    "    # I is the number of insertions (extra predicted notes) in the estimate that are not present in \n",
    "    # the reference (ground truth)\n",
    "    I = len(estimate.difference(reference))    \n",
    "    \n",
    "    # accuracy measurement for each chord estimate, scaled between 0 and 1\n",
    "    A = (C - I + len(reference)) / (2*len(reference))\n",
    "    \n",
    "    return A"
   ]
  },
  {
   "cell_type": "markdown",
   "id": "bf80c50e",
   "metadata": {},
   "source": [
    "## Examples from Poster"
   ]
  },
  {
   "cell_type": "markdown",
   "id": "9620b109",
   "metadata": {},
   "source": [
    "### Triads estimated for a triad\n",
    "one triad estimate with two common notes \u000b",
    "and one triad estimate with no common notes\n",
    "\n",
    "<img src=\"images/ex1-groundTruth.jpg\" width=300 align=left>\n",
    "<img src=\"images/ex1-estimate1.jpg\" width=300 align=left>"
   ]
  },
  {
   "cell_type": "code",
   "execution_count": 2,
   "id": "a1986b8d",
   "metadata": {},
   "outputs": [
    {
     "name": "stdout",
     "output_type": "stream",
     "text": [
      "0.6666666666666666\n"
     ]
    }
   ],
   "source": [
    "estimate1={2,5,9}\n",
    "reference1={0,5,9}\n",
    "accuracy1 = chordContentMetric(estimate1, reference1)\n",
    "print(accuracy1)"
   ]
  },
  {
   "cell_type": "markdown",
   "id": "11239e57",
   "metadata": {},
   "source": [
    "<img src=\"images/ex1-groundTruth.jpg\" width=300 align=left>\n",
    "<img src=\"images/ex1-estimate2.jpg\" width=300 align=left>"
   ]
  },
  {
   "cell_type": "code",
   "execution_count": 3,
   "id": "7ff1c716",
   "metadata": {},
   "outputs": [
    {
     "name": "stdout",
     "output_type": "stream",
     "text": [
      "0.0\n"
     ]
    }
   ],
   "source": [
    "estimate2={2,7,11}\n",
    "reference2={0,5,9}\n",
    "accuracy2 = chordContentMetric(estimate2, reference2)\n",
    "print(accuracy2)"
   ]
  },
  {
   "cell_type": "markdown",
   "id": "314d74f9",
   "metadata": {},
   "source": [
    "### Seventh chord estimated for a triad\n",
    "\n",
    "one seventh chord estimate with three common notes and one extra \u000b",
    "and one triad estimate with two common notes and one extra\n",
    "\n",
    "<img src=\"images/ex2-groundTruth.jpg\" width=300 align=left>\n",
    "<img src=\"images/ex2-estimate1.jpg\" width=300 align=left>"
   ]
  },
  {
   "cell_type": "code",
   "execution_count": 4,
   "id": "70f02887",
   "metadata": {},
   "outputs": [
    {
     "name": "stdout",
     "output_type": "stream",
     "text": [
      "0.8333333333333334\n"
     ]
    }
   ],
   "source": [
    "estimate3={2,4,7,11}\n",
    "reference3={2,4,7}\n",
    "accuracy3 = chordContentMetric(estimate3, reference3)\n",
    "print(accuracy3)"
   ]
  },
  {
   "cell_type": "markdown",
   "id": "0b093d60",
   "metadata": {},
   "source": [
    "<img src=\"images/ex2-groundTruth.jpg\" width=300 align=left>\n",
    "<img src=\"images/ex2-estimate2.jpg\" width=300 align=left>"
   ]
  },
  {
   "cell_type": "code",
   "execution_count": 5,
   "id": "1cead5ab",
   "metadata": {},
   "outputs": [
    {
     "name": "stdout",
     "output_type": "stream",
     "text": [
      "0.6666666666666666\n"
     ]
    }
   ],
   "source": [
    "estimate4={2,7,11}\n",
    "reference4={4,7,11}\n",
    "accuracy4 = chordContentMetric(estimate4, reference4)\n",
    "print(accuracy4)"
   ]
  },
  {
   "cell_type": "markdown",
   "id": "e3bcac58",
   "metadata": {},
   "source": [
    "## Running Metric on Chord Labels from <a href=\"http://gettavern.org/\">TAVERN</a> Dataset"
   ]
  },
  {
   "cell_type": "code",
   "execution_count": 6,
   "id": "32f57a08",
   "metadata": {},
   "outputs": [],
   "source": [
    "# Roman numerals in TAVERN\n",
    "chordTable = (\n",
    "    ['I', 'Ib', 'Ic', 'I+', 'I#5', 'Cb', 'Cc', 'I7', 'I7b', 'I+7', 'I7+b', \n",
    "    'i', 'ib', 'ic', 'i7', \n",
    "    'N', 'Nb', \n",
    "    'ii', 'iib', 'iic', \n",
    "    'ii7', 'ii7b', 'ii7c', 'ii7d', \n",
    "    'iio', 'iiob', 'iioc', \n",
    "    'iio7', 'iio7b', 'iio7c', 'iio7d', \n",
    "    'iiom7', 'iiom7b', 'iiom7c', 'iiom7d', \n",
    "    'II', \n",
    "    'III', 'IIIb', 'IIIc', \n",
    "    'iii', 'iiib', 'iiic', \n",
    "    'IV+', 'IV', 'IVb', 'IVc', 'IV7', 'IV7b', 'IV7c', \n",
    "    'iv', 'ivb', 'ivc', 'iv7', 'iv7c', \n",
    "    'V', 'Vb', 'Vc', 'Vd', 'V+', 'V+b', \n",
    "    'v', 'vb', 'vc', \n",
    "    'V7', 'V7b', 'V7c', 'V7d', \n",
    "    'V7b9', 'V7m9', 'V7M9', 'V7D9', 'V7bM9', 'V7cM9', \n",
    "    'bVI', 'bVIb', 'bVIc', \n",
    "    'VI', 'VIb', 'VIc', 'VI7b', \n",
    "    'vi', 'vib', 'vic', 'vi7', 'vi7b', \n",
    "    'VII', 'VIIb', 'VII7b', \n",
    "    'viio', 'viiob', 'viioc', 'viio4', 'viio7', \n",
    "    'viioD7', 'viioD7b', 'viioD7c', 'viioD7d', 'viiom7', 'viiom7b', \n",
    "    'vii@7', 'vii@7b', 'vii@7c', 'vii@7d', \n",
    "    '-vii', 'vii', 'viib', 'vii7c', 'vii7d', \n",
    "    'Gn', 'Lt', 'Fr', \n",
    "    'V42/bII', 'CtoD7', 'Cto', 'CTo', 'Cto7']);"
   ]
  },
  {
   "cell_type": "code",
   "execution_count": 7,
   "id": "36a9610e",
   "metadata": {},
   "outputs": [],
   "source": [
    "# Pitch class content of roman numerals in TAVERN\n",
    "chordTableNum = (\n",
    "    [[0,4,7],[4,7,0],[7,0,4],[0,4,8],[0,4,8],[4,7,0],  # 'I','Ia','Ib','I+','Cb','Cc'\n",
    "    [7,0,4],[0,4,7,10],[4,7,10,0],[0,4,8,10],[4,8,10,0],  # 'I7','I7b','I+7','I7+b'\n",
    "    [0,3,7],[3,7,0],[7,0,3],[0,3,7,10],  # 'i','ia','ib','i7'\n",
    "    [1,5,8],[5,8,1],  # 'N','Nb'\n",
    "    [2,5,9],[5,9,2],[9,2,5],  # 'ii','iia','iib'\n",
    "    [2,5,9,0],[5,9,0,2],[9,0,2,5],[0,2,5,9],  # 'ii7','ii7a','ii7b','ii7c'\n",
    "    [2,5,8],[5,8,2],[8,2,5],  # 'iio','iioa','iiob'\n",
    "    [2,5,8,11],[5,8,11,2],[8,11,2,5],[11,2,5,8],  # 'iio7','iio7a','iio7b','iio7c'\n",
    "    [2,5,8,0],[5,8,0,2],[0,2,5,8],[0,2,5,8],  # 'ii@7','ii@7a','ii@7b','ii@7c'\n",
    "    [2,6,8],  # 'II'\n",
    "    [4,8,11],[8,11,4],[11,4,8],  # 'III','IIIa','IIIb'\n",
    "    [4,7,11],[7,11,4],[11,4,7],  # 'iii','iiia','iiib'\n",
    "    [5,9,1],[5,9,0],[9,0,5],[0,5,9],[5,9,0,4],[9,0,4,5],[0,4,5,9],  # 'IV+','IV','IVa','IVb','IV7','IV7b','IV7c'\n",
    "    [5,8,0],[8,0,5],[0,5,8],[5,8,0,3],[0,3,5,8],  # 'iv','iva','ivb','iv7','iv7c'\n",
    "    [7,11,2],[11,2,7],[2,7,11],[5,7,11,2],[7,11,3],[11,3,7],  # 'V','Va','Vb','Vc','V+','V+b'\n",
    "    [7,10,2],[10,2,7],[2,7,10],  # 'v','va','vb',\n",
    "    [7,11,2,5],[11,2,5,7],[2,5,7,11],[5,7,11,2],  # 'V7','V7a','V7b','V7c'\n",
    "    [7,11,2,5,8],[7,11,2,5,8],[7,11,2,5,9],[7,11,2,5,7],[7,11,2,5,8],[11,2,5,8,7],  # 'V7b9','V7m9','V7M9','V7D9','V7bM9','V7cM9'\n",
    "    [8,0,3],[0,3,8],[3,8,0],  # 'bVI','bVIa','bVIb'\n",
    "    [9,1,4],[1,4,9],[4,9,1],[1,4,7,9],  # 'VI','VIa','VIb','VI7b'\n",
    "    [9,0,4],[0,4,9],[4,9,0],[9,0,4,6],[0,4,6,9],  # 'vi','via','vib','vi7','vi7a'\n",
    "    [10,2,5],[2,5,10],[5,10,2],  # 'VII','VIIa','VII7a'\n",
    "    [11,2,5],[2,5,11],[5,11,2],[11,2,4,5],[11,2,5,8],  # 'viio','viioa','viiob','viio4','viio7'\n",
    "    [11,2,5,8],[2,5,8,11],[5,8,11,2],[8,11,2,5],[11,2,5,9],[2,5,9,11,],  # 'viioD7','viioD7b','viioD7c','viio7c','viiom7','viiom7b'\n",
    "    [11,2,5,9],[2,5,9,11],[5,9,11,2],[9,11,2,5],  # 'vii@7','vii@7a','vii@7b','vii@7c'\n",
    "    [10,1,5],[10,1,5],[1,5,10],[],[],  # '-vii','vii','viib', 'vii7c', 'vii7d' - check usage in dataset\n",
    "    [8,0,6],[8,0,2,6],[8,0,3,6],  # 'Gn','Lt','Fr'\n",
    "    [1,2,3,4],[],[],[],[]] #'V42/bII','CtoD7','Cto','CTo','Cto7' - non-pitch specific\n",
    ")"
   ]
  },
  {
   "cell_type": "markdown",
   "id": "44fbe3f8",
   "metadata": {},
   "source": [
    "### Indexes of diatonic chords of major chords"
   ]
  },
  {
   "cell_type": "code",
   "execution_count": 8,
   "id": "60367af4",
   "metadata": {},
   "outputs": [],
   "source": [
    "idx_I = chordTable.index('I')\n",
    "idx_ii = chordTable.index('ii')\n",
    "idx_iii = chordTable.index('iii')\n",
    "idx_IV = chordTable.index('IV')\n",
    "idx_V = chordTable.index('V')\n",
    "idx_vi = chordTable.index('vi')\n",
    "idx_viio = chordTable.index('viio')"
   ]
  },
  {
   "cell_type": "markdown",
   "id": "d45064bd",
   "metadata": {},
   "source": [
    "### ii chord misestimated for a IV chord"
   ]
  },
  {
   "cell_type": "code",
   "execution_count": 9,
   "id": "f5b9bb8a",
   "metadata": {},
   "outputs": [
    {
     "name": "stdout",
     "output_type": "stream",
     "text": [
      "0.6666666666666666\n"
     ]
    }
   ],
   "source": [
    "A_IVii = chordContentMetric(set(chordTableNum[idx_ii]), set(chordTableNum[idx_IV]))\n",
    "print(A_IVii)"
   ]
  },
  {
   "cell_type": "markdown",
   "id": "e5f745a4",
   "metadata": {},
   "source": [
    "### V chord misestimated for a IV chord"
   ]
  },
  {
   "cell_type": "code",
   "execution_count": 10,
   "id": "2b5efeb6",
   "metadata": {},
   "outputs": [
    {
     "name": "stdout",
     "output_type": "stream",
     "text": [
      "0.0\n"
     ]
    }
   ],
   "source": [
    "A_IVV = chordContentMetric(set(chordTableNum[idx_V]), set(chordTableNum[idx_IV]))\n",
    "print(A_IVV)"
   ]
  }
 ],
 "metadata": {
  "kernelspec": {
   "display_name": "Python 3",
   "language": "python",
   "name": "python3"
  },
  "language_info": {
   "codemirror_mode": {
    "name": "ipython",
    "version": 3
   },
   "file_extension": ".py",
   "mimetype": "text/x-python",
   "name": "python",
   "nbconvert_exporter": "python",
   "pygments_lexer": "ipython3",
   "version": "3.8.8"
  }
 },
 "nbformat": 4,
 "nbformat_minor": 5
}
